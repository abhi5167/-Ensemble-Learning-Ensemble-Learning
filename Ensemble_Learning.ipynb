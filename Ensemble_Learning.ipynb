{
  "nbformat": 4,
  "nbformat_minor": 0,
  "metadata": {
    "colab": {
      "provenance": []
    },
    "kernelspec": {
      "name": "python3",
      "display_name": "Python 3"
    },
    "language_info": {
      "name": "python"
    }
  },
  "cells": [
    {
      "cell_type": "markdown",
      "source": [
        "# **Ensemble Learning**"
      ],
      "metadata": {
        "id": "uvzHniUZla82"
      }
    },
    {
      "cell_type": "markdown",
      "source": [
        "**Therotical**"
      ],
      "metadata": {
        "id": "N8B4cHpmlqsz"
      }
    },
    {
      "cell_type": "markdown",
      "source": [
        "Q.1 Can we use Bagging for regression problems?\n",
        "\n",
        "Answer: Yes, Bagging can be used for regression problems. In regression, Bagging combines the predictions of multiple base regressors by averaging their outputs to reduce variance and improve accuracy.\n",
        "\n",
        "Q.2 What is the difference between multiple model training and single model training?\n",
        "\n",
        "Answer: Single model training uses one algorithm on the entire dataset, whereas multiple model training (ensemble) trains several models and combines their predictions for better generalization and accuracy.\n",
        "\n",
        "Q.3 Explain the concept of feature randomness in Random Forest.\n",
        "\n",
        "Answer: In Random Forest, each decision tree is trained on a random subset of features. This randomness helps in making trees less correlated, reducing overfitting and improving model performance.\n",
        "\n",
        "Q.4 What is OOB (Out-of-Bag) Score?\n",
        "\n",
        "Answer: The OOB score is a performance metric calculated using data not included in the bootstrap sample for training. It provides an unbiased estimate of model accuracy in ensemble methods like Random Forest.\n",
        "\n",
        "Q.5 How can you measure the importance of features in a Random Forest model?\n",
        "\n",
        "Answer: Feature importance in Random Forest is measured by observing how much each feature decreases the impurity (like Gini or Entropy) across all trees or by using permutation importance.\n",
        "\n",
        "Q.6 Explain the working principle of a Bagging Classifier.\n",
        "\n",
        "Answer: A Bagging Classifier trains multiple instances of the same base model on different bootstrapped subsets of the training data and combines their predictions using majority voting (for classification).\n",
        "\n",
        "Q.7 How do you evaluate a Bagging Classifier’s performance?\n",
        "\n",
        "Answer: Performance is evaluated using metrics like accuracy, precision, recall, F1-score, and AUC, along with cross-validation or out-of-bag (OOB) estimates.\n",
        "\n",
        "Q.8 How does a Bagging Regressor work?\n",
        "\n",
        "Answer: A Bagging Regressor fits multiple regressors on bootstrapped samples of the training data and predicts the output by averaging the predictions of all base regressors.\n",
        "\n",
        "Q.9 What is the main advantage of ensemble techniques?\n",
        "\n",
        "Answer: The main advantage is improved accuracy and robustness by combining the strengths of multiple models, reducing the likelihood of overfitting or underfitting.\n",
        "\n",
        "Q.10 What is the main challenge of ensemble methods?\n",
        "\n",
        "Answer: The main challenge is increased computational cost and complexity in training, interpreting, and maintaining multiple models.\n",
        "\n",
        "Q.11 Explain the key idea behind ensemble techniques.\n",
        "\n",
        "Answer: Ensemble techniques aim to combine predictions from multiple models to create a more accurate and stable final prediction than any single model could achieve.\n",
        "\n",
        "Q.12 What is a Random Forest Classifier?\n",
        "\n",
        "Answer: A Random Forest Classifier is an ensemble of decision trees trained on different subsets of data and features. The final prediction is made based on majority voting across all trees.\n",
        "\n",
        "Q.13 What are the main types of ensemble techniques?\n",
        "\n",
        "Answer: The main types are\n",
        "\n",
        "Bagging (e.g., Random Forest)\n",
        "\n",
        "Boosting (e.g., AdaBoost, Gradient Boosting)\n",
        "\n",
        "Stacking (combining outputs of multiple models using a meta-model)\n",
        "\n",
        "Q.14 What is ensemble learning in machine learning?\n",
        "\n",
        "Answer: Ensemble learning is a technique where multiple models (often weak learners) are trained and combined to improve prediction performance and robustness.\n",
        "\n",
        "Q.15 When should we avoid using ensemble methods?\n",
        "\n",
        "Answer: Avoid using ensemble methods when:\n",
        "\n",
        "The dataset is small.\n",
        "\n",
        "The base model already performs very well.\n",
        "\n",
        "Model interpretability is a priority.\n",
        "\n",
        "Computational resources are limited.\n",
        "\n",
        "\n",
        "Q.16 How does Bagging help in reducing overfitting?\n",
        "\n",
        "Answer: Bagging reduces overfitting by training multiple models on different data samples, thus averaging out the noise and variance in the data.\n",
        "\n",
        "Q.17 Why is Random Forest better than a single Decision Tree?\n",
        "\n",
        "Answer: Random Forest reduces overfitting and increases accuracy by averaging multiple decision trees, which leads to better generalization than a single decision tree.\n",
        "\n",
        "Q.18 What is the role of bootstrap sampling in Bagging?\n",
        "\n",
        "Answer: Bootstrap sampling creates diverse training sets by randomly sampling with replacement from the original dataset, ensuring each model sees a different subset.\n",
        "\n",
        "Q.19 What are some real-world applications of ensemble techniques?\n",
        "\n",
        "Answer: Applications include:\n",
        "\n",
        "Fraud detection\n",
        "\n",
        "Stock price prediction\n",
        "\n",
        "Image classification\n",
        "\n",
        "Medical diagnosis\n",
        "\n",
        "Recommendation systems\n",
        "\n",
        "Q.20 What is the difference between Bagging and Boosting?\n",
        "\n",
        "Answer:\n",
        "\n",
        "Feature\tBagging\tBoosting\n",
        "Model Training\tParallel\tSequential\n",
        "Focus\tReducing variance\tReducing bias and variance\n",
        "Example\tRandom Forest\tAdaBoost, XGBoost, Gradient Boost"
      ],
      "metadata": {
        "id": "IzgSEJXZk75v"
      }
    },
    {
      "cell_type": "markdown",
      "source": [
        "**Practical**"
      ],
      "metadata": {
        "id": "N2WshF0elvs8"
      }
    },
    {
      "cell_type": "markdown",
      "source": [
        "Q.21 Train a Bagging Classifier using Decision Trees on a sample dataset and print model accuracy."
      ],
      "metadata": {
        "id": "FDF6q_tNlx3r"
      }
    },
    {
      "cell_type": "code",
      "source": [
        "from sklearn.ensemble import BaggingClassifier\n",
        "from sklearn.tree import DecisionTreeClassifier\n",
        "from sklearn.datasets import load_iris\n",
        "from sklearn.model_selection import train_test_split\n",
        "from sklearn.metrics import accuracy_score\n",
        "\n",
        "# Load dataset\n",
        "X, y = load_iris(return_X_y=True)\n",
        "\n",
        "# Train-test split\n",
        "X_train, X_test, y_train, y_test = train_test_split(X, y, test_size=0.2, random_state=42)\n",
        "\n",
        "# Bagging Classifier\n",
        "bagging_model = BaggingClassifier(estimator=DecisionTreeClassifier(), n_estimators=10, random_state=42)\n",
        "bagging_model.fit(X_train, y_train)\n",
        "\n",
        "# Accuracy\n",
        "y_pred = bagging_model.predict(X_test)\n",
        "print(\"Accuracy:\", accuracy_score(y_test, y_pred))\n"
      ],
      "metadata": {
        "colab": {
          "base_uri": "https://localhost:8080/"
        },
        "id": "juc2_1uKmHyE",
        "outputId": "9181fa4d-bb1d-4207-f1cc-e2ca76cc5026"
      },
      "execution_count": null,
      "outputs": [
        {
          "output_type": "stream",
          "name": "stdout",
          "text": [
            "Accuracy: 1.0\n"
          ]
        }
      ]
    },
    {
      "cell_type": "markdown",
      "source": [
        "Q.22 Train a Bagging Regressor using Decision Trees and evaluate using Mean Squared Error (MSE)."
      ],
      "metadata": {
        "id": "OwqK9qF7mJ2W"
      }
    },
    {
      "cell_type": "code",
      "source": [
        "from sklearn.ensemble import BaggingRegressor\n",
        "from sklearn.tree import DecisionTreeRegressor\n",
        "from sklearn.datasets import load_diabetes\n",
        "from sklearn.model_selection import train_test_split\n",
        "from sklearn.metrics import mean_squared_error\n",
        "\n",
        "# Load dataset\n",
        "X, y = load_diabetes(return_X_y=True)\n",
        "\n",
        "# Train-test split\n",
        "X_train, X_test, y_train, y_test = train_test_split(X, y, test_size=0.2, random_state=42)\n",
        "\n",
        "# Bagging Regressor\n",
        "bagging_model = BaggingRegressor(estimator=DecisionTreeRegressor(), n_estimators=10, random_state=42)\n",
        "bagging_model.fit(X_train, y_train)\n",
        "\n",
        "# MSE\n",
        "y_pred = bagging_model.predict(X_test)\n",
        "print(\"MSE:\", mean_squared_error(y_test, y_pred))\n"
      ],
      "metadata": {
        "colab": {
          "base_uri": "https://localhost:8080/"
        },
        "id": "YwbohjjLmMKF",
        "outputId": "ac54ec1f-da4b-4ff6-de0f-58fcaea359e8"
      },
      "execution_count": null,
      "outputs": [
        {
          "output_type": "stream",
          "name": "stdout",
          "text": [
            "MSE: 3256.961797752809\n"
          ]
        }
      ]
    },
    {
      "cell_type": "markdown",
      "source": [
        "Q.23 Train a Random Forest Classifier on the Breast Cancer dataset and print feature importance scores."
      ],
      "metadata": {
        "id": "W1AdKqvwmQfE"
      }
    },
    {
      "cell_type": "code",
      "source": [
        "from sklearn.ensemble import RandomForestClassifier\n",
        "from sklearn.datasets import load_breast_cancer\n",
        "import pandas as pd\n",
        "\n",
        "X, y = load_breast_cancer(return_X_y=True)\n",
        "model = RandomForestClassifier(n_estimators=100, random_state=0)\n",
        "model.fit(X, y)\n",
        "\n",
        "importances = pd.Series(model.feature_importances_, index=load_breast_cancer().feature_names)\n",
        "print(\"Feature Importances:\\n\", importances.sort_values(ascending=False))\n"
      ],
      "metadata": {
        "colab": {
          "base_uri": "https://localhost:8080/"
        },
        "id": "0fU7N8c9mSSl",
        "outputId": "89b31740-4dd3-43cd-d7a0-7269771b1b83"
      },
      "execution_count": null,
      "outputs": [
        {
          "output_type": "stream",
          "name": "stdout",
          "text": [
            "Feature Importances:\n",
            " worst perimeter            0.173987\n",
            "worst radius               0.121983\n",
            "worst concave points       0.118589\n",
            "mean concave points        0.088527\n",
            "worst area                 0.074981\n",
            "mean concavity             0.071862\n",
            "mean perimeter             0.053993\n",
            "mean area                  0.045401\n",
            "area error                 0.039420\n",
            "worst concavity            0.030394\n",
            "mean radius                0.024299\n",
            "worst texture              0.019173\n",
            "radius error               0.019009\n",
            "perimeter error            0.014594\n",
            "mean texture               0.014196\n",
            "worst smoothness           0.012692\n",
            "worst compactness          0.010236\n",
            "worst fractal dimension    0.008298\n",
            "worst symmetry             0.007964\n",
            "mean smoothness            0.007955\n",
            "fractal dimension error    0.005912\n",
            "mean symmetry              0.005588\n",
            "concave points error       0.005085\n",
            "texture error              0.004901\n",
            "concavity error            0.004241\n",
            "smoothness error           0.003746\n",
            "symmetry error             0.003711\n",
            "compactness error          0.003668\n",
            "mean compactness           0.003456\n",
            "mean fractal dimension     0.002141\n",
            "dtype: float64\n"
          ]
        }
      ]
    },
    {
      "cell_type": "markdown",
      "source": [
        "Q.24 Train a Random Forest Regressor and compare its performance with a single Decision Tree."
      ],
      "metadata": {
        "id": "9AW065AOmVDf"
      }
    },
    {
      "cell_type": "code",
      "source": [
        "from sklearn.ensemble import RandomForestRegressor\n",
        "from sklearn.tree import DecisionTreeRegressor\n",
        "\n",
        "rf = RandomForestRegressor(n_estimators=100, random_state=0)\n",
        "tree = DecisionTreeRegressor(random_state=0)\n",
        "\n",
        "rf.fit(X_train, y_train)\n",
        "tree.fit(X_train, y_train)\n",
        "\n",
        "rf_pred = rf.predict(X_test)\n",
        "tree_pred = tree.predict(X_test)\n",
        "\n",
        "print(\"Random Forest MSE:\", mean_squared_error(y_test, rf_pred))\n",
        "print(\"Decision Tree MSE:\", mean_squared_error(y_test, tree_pred))\n"
      ],
      "metadata": {
        "colab": {
          "base_uri": "https://localhost:8080/"
        },
        "id": "qh52Zf1pmVmN",
        "outputId": "7e3978af-4a27-4180-b6df-d664a04041d8"
      },
      "execution_count": null,
      "outputs": [
        {
          "output_type": "stream",
          "name": "stdout",
          "text": [
            "Random Forest MSE: 3750.300122471911\n",
            "Decision Tree MSE: 6891.797752808989\n"
          ]
        }
      ]
    },
    {
      "cell_type": "markdown",
      "source": [
        "Q.25 Compute the Out-of-Bag (OOB) Score for a Random Forest Classifier."
      ],
      "metadata": {
        "id": "Fdf9mn5omXfu"
      }
    },
    {
      "cell_type": "code",
      "source": [
        "model = RandomForestClassifier(n_estimators=100, oob_score=True, bootstrap=True, random_state=0)\n",
        "model.fit(X, y)\n",
        "print(\"OOB Score:\", model.oob_score_)\n"
      ],
      "metadata": {
        "colab": {
          "base_uri": "https://localhost:8080/"
        },
        "id": "XJMu1JBXmZKs",
        "outputId": "2d459b33-37ea-4102-fb1e-0c078b303efb"
      },
      "execution_count": null,
      "outputs": [
        {
          "output_type": "stream",
          "name": "stdout",
          "text": [
            "OOB Score: 0.968365553602812\n"
          ]
        }
      ]
    },
    {
      "cell_type": "markdown",
      "source": [
        "Q.26 Train a Bagging Classifier using SVM as a base estimator and print accuracy."
      ],
      "metadata": {
        "id": "bzNhCIakmay9"
      }
    },
    {
      "cell_type": "code",
      "source": [
        "from sklearn.ensemble import BaggingClassifier\n",
        "from sklearn.svm import SVC\n",
        "from sklearn.datasets import load_iris\n",
        "from sklearn.model_selection import train_test_split\n",
        "from sklearn.metrics import accuracy_score\n",
        "\n",
        "# Load dataset\n",
        "X, y = load_iris(return_X_y=True)\n",
        "X_train, X_test, y_train, y_test = train_test_split(X, y, test_size=0.2, random_state=42)\n",
        "\n",
        "# Bagging with SVM\n",
        "bagging_model = BaggingClassifier(estimator=SVC(probability=True), n_estimators=10, random_state=42)\n",
        "bagging_model.fit(X_train, y_train)\n",
        "\n",
        "# Accuracy\n",
        "y_pred = bagging_model.predict(X_test)\n",
        "print(\"Accuracy:\", accuracy_score(y_test, y_pred))\n"
      ],
      "metadata": {
        "colab": {
          "base_uri": "https://localhost:8080/"
        },
        "id": "a99lTLIymc1z",
        "outputId": "4dcee51d-b016-4018-aa1f-53158dd321b9"
      },
      "execution_count": null,
      "outputs": [
        {
          "output_type": "stream",
          "name": "stdout",
          "text": [
            "Accuracy: 1.0\n"
          ]
        }
      ]
    },
    {
      "cell_type": "markdown",
      "source": [
        "Q.27 Train a Random Forest Classifier with different numbers of trees and compare accuracy."
      ],
      "metadata": {
        "id": "Njc1qT63mgjt"
      }
    },
    {
      "cell_type": "code",
      "source": [
        "for n in [10, 50, 100, 200]:\n",
        "    model = RandomForestClassifier(n_estimators=n, random_state=0)\n",
        "    model.fit(X_train, y_train)\n",
        "    y_pred = model.predict(X_test)\n",
        "    print(f\"Trees: {n}, Accuracy: {accuracy_score(y_test, y_pred)}\")\n"
      ],
      "metadata": {
        "colab": {
          "base_uri": "https://localhost:8080/"
        },
        "id": "KKSORFdumhRs",
        "outputId": "fc017bd2-10ab-437f-de96-34d4607a7e9c"
      },
      "execution_count": null,
      "outputs": [
        {
          "output_type": "stream",
          "name": "stdout",
          "text": [
            "Trees: 10, Accuracy: 0.011235955056179775\n",
            "Trees: 50, Accuracy: 0.0\n",
            "Trees: 100, Accuracy: 0.0\n",
            "Trees: 200, Accuracy: 0.0\n"
          ]
        }
      ]
    },
    {
      "cell_type": "markdown",
      "source": [
        "Q.28 Train a Bagging Classifier using Logistic Regression as a base estimator and print AUC score."
      ],
      "metadata": {
        "id": "JxB5Oazzmj8F"
      }
    },
    {
      "cell_type": "code",
      "source": [
        "from sklearn.ensemble import BaggingClassifier\n",
        "from sklearn.linear_model import LogisticRegression\n",
        "from sklearn.datasets import load_breast_cancer\n",
        "from sklearn.model_selection import train_test_split\n",
        "from sklearn.metrics import roc_auc_score\n",
        "\n",
        "# Load binary dataset\n",
        "X, y = load_breast_cancer(return_X_y=True)\n",
        "X_train, X_test, y_train, y_test = train_test_split(X, y, test_size=0.2, random_state=42)\n",
        "\n",
        "# Bagging with Logistic Regression\n",
        "bagging_model = BaggingClassifier(estimator=LogisticRegression(max_iter=1000), n_estimators=10, random_state=42)\n",
        "bagging_model.fit(X_train, y_train)\n",
        "\n",
        "# AUC Score\n",
        "y_prob = bagging_model.predict_proba(X_test)[:, 1]\n",
        "print(\"AUC Score:\", roc_auc_score(y_test, y_prob))\n"
      ],
      "metadata": {
        "colab": {
          "base_uri": "https://localhost:8080/"
        },
        "id": "SRFiKfP3mkmm",
        "outputId": "ced601c7-cb0a-465a-d91a-f1a8d81c444c"
      },
      "execution_count": null,
      "outputs": [
        {
          "output_type": "stream",
          "name": "stderr",
          "text": [
            "/usr/local/lib/python3.11/dist-packages/sklearn/linear_model/_logistic.py:465: ConvergenceWarning: lbfgs failed to converge (status=1):\n",
            "STOP: TOTAL NO. OF ITERATIONS REACHED LIMIT.\n",
            "\n",
            "Increase the number of iterations (max_iter) or scale the data as shown in:\n",
            "    https://scikit-learn.org/stable/modules/preprocessing.html\n",
            "Please also refer to the documentation for alternative solver options:\n",
            "    https://scikit-learn.org/stable/modules/linear_model.html#logistic-regression\n",
            "  n_iter_i = _check_optimize_result(\n",
            "/usr/local/lib/python3.11/dist-packages/sklearn/linear_model/_logistic.py:465: ConvergenceWarning: lbfgs failed to converge (status=1):\n",
            "STOP: TOTAL NO. OF ITERATIONS REACHED LIMIT.\n",
            "\n",
            "Increase the number of iterations (max_iter) or scale the data as shown in:\n",
            "    https://scikit-learn.org/stable/modules/preprocessing.html\n",
            "Please also refer to the documentation for alternative solver options:\n",
            "    https://scikit-learn.org/stable/modules/linear_model.html#logistic-regression\n",
            "  n_iter_i = _check_optimize_result(\n",
            "/usr/local/lib/python3.11/dist-packages/sklearn/linear_model/_logistic.py:465: ConvergenceWarning: lbfgs failed to converge (status=1):\n",
            "STOP: TOTAL NO. OF ITERATIONS REACHED LIMIT.\n",
            "\n",
            "Increase the number of iterations (max_iter) or scale the data as shown in:\n",
            "    https://scikit-learn.org/stable/modules/preprocessing.html\n",
            "Please also refer to the documentation for alternative solver options:\n",
            "    https://scikit-learn.org/stable/modules/linear_model.html#logistic-regression\n",
            "  n_iter_i = _check_optimize_result(\n",
            "/usr/local/lib/python3.11/dist-packages/sklearn/linear_model/_logistic.py:465: ConvergenceWarning: lbfgs failed to converge (status=1):\n",
            "STOP: TOTAL NO. OF ITERATIONS REACHED LIMIT.\n",
            "\n",
            "Increase the number of iterations (max_iter) or scale the data as shown in:\n",
            "    https://scikit-learn.org/stable/modules/preprocessing.html\n",
            "Please also refer to the documentation for alternative solver options:\n",
            "    https://scikit-learn.org/stable/modules/linear_model.html#logistic-regression\n",
            "  n_iter_i = _check_optimize_result(\n",
            "/usr/local/lib/python3.11/dist-packages/sklearn/linear_model/_logistic.py:465: ConvergenceWarning: lbfgs failed to converge (status=1):\n",
            "STOP: TOTAL NO. OF ITERATIONS REACHED LIMIT.\n",
            "\n",
            "Increase the number of iterations (max_iter) or scale the data as shown in:\n",
            "    https://scikit-learn.org/stable/modules/preprocessing.html\n",
            "Please also refer to the documentation for alternative solver options:\n",
            "    https://scikit-learn.org/stable/modules/linear_model.html#logistic-regression\n",
            "  n_iter_i = _check_optimize_result(\n",
            "/usr/local/lib/python3.11/dist-packages/sklearn/linear_model/_logistic.py:465: ConvergenceWarning: lbfgs failed to converge (status=1):\n",
            "STOP: TOTAL NO. OF ITERATIONS REACHED LIMIT.\n",
            "\n",
            "Increase the number of iterations (max_iter) or scale the data as shown in:\n",
            "    https://scikit-learn.org/stable/modules/preprocessing.html\n",
            "Please also refer to the documentation for alternative solver options:\n",
            "    https://scikit-learn.org/stable/modules/linear_model.html#logistic-regression\n",
            "  n_iter_i = _check_optimize_result(\n",
            "/usr/local/lib/python3.11/dist-packages/sklearn/linear_model/_logistic.py:465: ConvergenceWarning: lbfgs failed to converge (status=1):\n",
            "STOP: TOTAL NO. OF ITERATIONS REACHED LIMIT.\n",
            "\n",
            "Increase the number of iterations (max_iter) or scale the data as shown in:\n",
            "    https://scikit-learn.org/stable/modules/preprocessing.html\n",
            "Please also refer to the documentation for alternative solver options:\n",
            "    https://scikit-learn.org/stable/modules/linear_model.html#logistic-regression\n",
            "  n_iter_i = _check_optimize_result(\n",
            "/usr/local/lib/python3.11/dist-packages/sklearn/linear_model/_logistic.py:465: ConvergenceWarning: lbfgs failed to converge (status=1):\n",
            "STOP: TOTAL NO. OF ITERATIONS REACHED LIMIT.\n",
            "\n",
            "Increase the number of iterations (max_iter) or scale the data as shown in:\n",
            "    https://scikit-learn.org/stable/modules/preprocessing.html\n",
            "Please also refer to the documentation for alternative solver options:\n",
            "    https://scikit-learn.org/stable/modules/linear_model.html#logistic-regression\n",
            "  n_iter_i = _check_optimize_result(\n",
            "/usr/local/lib/python3.11/dist-packages/sklearn/linear_model/_logistic.py:465: ConvergenceWarning: lbfgs failed to converge (status=1):\n",
            "STOP: TOTAL NO. OF ITERATIONS REACHED LIMIT.\n",
            "\n",
            "Increase the number of iterations (max_iter) or scale the data as shown in:\n",
            "    https://scikit-learn.org/stable/modules/preprocessing.html\n",
            "Please also refer to the documentation for alternative solver options:\n",
            "    https://scikit-learn.org/stable/modules/linear_model.html#logistic-regression\n",
            "  n_iter_i = _check_optimize_result(\n"
          ]
        },
        {
          "output_type": "stream",
          "name": "stdout",
          "text": [
            "AUC Score: 0.9980347199475925\n"
          ]
        },
        {
          "output_type": "stream",
          "name": "stderr",
          "text": [
            "/usr/local/lib/python3.11/dist-packages/sklearn/linear_model/_logistic.py:465: ConvergenceWarning: lbfgs failed to converge (status=1):\n",
            "STOP: TOTAL NO. OF ITERATIONS REACHED LIMIT.\n",
            "\n",
            "Increase the number of iterations (max_iter) or scale the data as shown in:\n",
            "    https://scikit-learn.org/stable/modules/preprocessing.html\n",
            "Please also refer to the documentation for alternative solver options:\n",
            "    https://scikit-learn.org/stable/modules/linear_model.html#logistic-regression\n",
            "  n_iter_i = _check_optimize_result(\n"
          ]
        }
      ]
    },
    {
      "cell_type": "markdown",
      "source": [
        "Q.29 Train a Random Forest Regressor and analyze feature importance scores.\n",
        "\n",
        "python\n",
        "Copy\n",
        "Edit\n"
      ],
      "metadata": {
        "id": "H4U_lUTommqs"
      }
    },
    {
      "cell_type": "code",
      "source": [
        "model = RandomForestRegressor(n_estimators=100, random_state=0)\n",
        "model.fit(X, y)\n",
        "importances = pd.Series(model.feature_importances_)\n",
        "print(\"Feature Importances:\\n\", importances.sort_values(ascending=False))\n"
      ],
      "metadata": {
        "colab": {
          "base_uri": "https://localhost:8080/"
        },
        "id": "a979AVg3mpmN",
        "outputId": "e115dc83-20b4-40b9-ce3a-31142e2a981a"
      },
      "execution_count": null,
      "outputs": [
        {
          "output_type": "stream",
          "name": "stdout",
          "text": [
            "Feature Importances:\n",
            " 22    0.346529\n",
            "27    0.218200\n",
            "23    0.104895\n",
            "7     0.097426\n",
            "20    0.092903\n",
            "21    0.025939\n",
            "1     0.018474\n",
            "13    0.013965\n",
            "26    0.013153\n",
            "24    0.009256\n",
            "6     0.005196\n",
            "3     0.005152\n",
            "19    0.004132\n",
            "16    0.003974\n",
            "10    0.003663\n",
            "17    0.003460\n",
            "28    0.003177\n",
            "11    0.003163\n",
            "29    0.002941\n",
            "8     0.002804\n",
            "4     0.002761\n",
            "12    0.002714\n",
            "25    0.002650\n",
            "14    0.002467\n",
            "2     0.002406\n",
            "15    0.002155\n",
            "18    0.002035\n",
            "9     0.001973\n",
            "0     0.001457\n",
            "5     0.000982\n",
            "dtype: float64\n"
          ]
        }
      ]
    },
    {
      "cell_type": "markdown",
      "source": [
        "Q.30 Train an ensemble model using both Bagging and Random Forest and compare accuracy."
      ],
      "metadata": {
        "id": "gOIobwZGmr6I"
      }
    },
    {
      "cell_type": "code",
      "source": [
        "from sklearn.ensemble import BaggingClassifier, RandomForestClassifier\n",
        "from sklearn.tree import DecisionTreeClassifier\n",
        "from sklearn.datasets import load_iris\n",
        "from sklearn.model_selection import train_test_split\n",
        "from sklearn.metrics import accuracy_score\n",
        "\n",
        "# Load dataset\n",
        "X, y = load_iris(return_X_y=True)\n",
        "X_train, X_test, y_train, y_test = train_test_split(X, y, test_size=0.2, random_state=42)\n",
        "\n",
        "# Bagging\n",
        "bagging_model = BaggingClassifier(estimator=DecisionTreeClassifier(), n_estimators=10, random_state=42)\n",
        "bagging_model.fit(X_train, y_train)\n",
        "bagging_accuracy = accuracy_score(y_test, bagging_model.predict(X_test))\n",
        "\n",
        "# Random Forest\n",
        "rf_model = RandomForestClassifier(n_estimators=100, random_state=42)\n",
        "rf_model.fit(X_train, y_train)\n",
        "rf_accuracy = accuracy_score(y_test, rf_model.predict(X_test))\n",
        "\n",
        "print(\"Bagging Accuracy:\", bagging_accuracy)\n",
        "print(\"Random Forest Accuracy:\", rf_accuracy)\n"
      ],
      "metadata": {
        "colab": {
          "base_uri": "https://localhost:8080/"
        },
        "id": "M_8lfI3Wmt5d",
        "outputId": "613feb2e-4d0b-4d6f-ddcf-27d8a91baa33"
      },
      "execution_count": null,
      "outputs": [
        {
          "output_type": "stream",
          "name": "stdout",
          "text": [
            "Bagging Accuracy: 1.0\n",
            "Random Forest Accuracy: 1.0\n"
          ]
        }
      ]
    },
    {
      "cell_type": "markdown",
      "source": [
        "Q31. Train a Random Forest Classifier and tune hyperparameters using GridSearchCV.\n"
      ],
      "metadata": {
        "id": "gUFjhl20nchV"
      }
    },
    {
      "cell_type": "code",
      "source": [
        "from sklearn.ensemble import RandomForestClassifier\n",
        "from sklearn.model_selection import GridSearchCV\n",
        "from sklearn.datasets import load_iris\n",
        "from sklearn.model_selection import train_test_split\n",
        "\n",
        "# Load data\n",
        "X, y = load_iris(return_X_y=True)\n",
        "X_train, X_test, y_train, y_test = train_test_split(X, y, test_size=0.2, random_state=42)\n",
        "\n",
        "# Grid search\n",
        "param_grid = {\n",
        "    'n_estimators': [50, 100],\n",
        "    'max_depth': [None, 5, 10],\n",
        "    'min_samples_split': [2, 5]\n",
        "}\n",
        "\n",
        "grid_search = GridSearchCV(RandomForestClassifier(random_state=42), param_grid, cv=3)\n",
        "grid_search.fit(X_train, y_train)\n",
        "\n",
        "print(\"Best parameters:\", grid_search.best_params_)\n",
        "print(\"Best score:\", grid_search.best_score_)\n"
      ],
      "metadata": {
        "colab": {
          "base_uri": "https://localhost:8080/"
        },
        "id": "DDrvcWHgoeyo",
        "outputId": "816c09db-29a7-45d0-fd8f-49f96d90e304"
      },
      "execution_count": null,
      "outputs": [
        {
          "output_type": "stream",
          "name": "stdout",
          "text": [
            "Best parameters: {'max_depth': None, 'min_samples_split': 2, 'n_estimators': 50}\n",
            "Best score: 0.9583333333333334\n"
          ]
        }
      ]
    },
    {
      "cell_type": "markdown",
      "source": [
        "Q32. Train a Bagging Regressor with different numbers of base estimators and compare performance."
      ],
      "metadata": {
        "id": "YuYrUcsrog4_"
      }
    },
    {
      "cell_type": "code",
      "source": [
        "from sklearn.ensemble import BaggingRegressor\n",
        "from sklearn.tree import DecisionTreeRegressor\n",
        "from sklearn.datasets import load_diabetes\n",
        "from sklearn.model_selection import train_test_split\n",
        "from sklearn.metrics import mean_squared_error\n",
        "\n",
        "X, y = load_diabetes(return_X_y=True)\n",
        "X_train, X_test, y_train, y_test = train_test_split(X, y, test_size=0.2, random_state=42)\n",
        "\n",
        "for n in [5, 10, 50, 100]:\n",
        "    model = BaggingRegressor(estimator=DecisionTreeRegressor(), n_estimators=n, random_state=42)\n",
        "    model.fit(X_train, y_train)\n",
        "    y_pred = model.predict(X_test)\n",
        "    print(f\"Estimators: {n}, MSE: {mean_squared_error(y_test, y_pred):.4f}\")\n"
      ],
      "metadata": {
        "colab": {
          "base_uri": "https://localhost:8080/"
        },
        "id": "UfmSSEUUojJJ",
        "outputId": "26af0792-4557-4c30-9ce1-6057350657d9"
      },
      "execution_count": null,
      "outputs": [
        {
          "output_type": "stream",
          "name": "stdout",
          "text": [
            "Estimators: 5, MSE: 3367.1020\n",
            "Estimators: 10, MSE: 3256.9618\n",
            "Estimators: 50, MSE: 3056.4946\n",
            "Estimators: 100, MSE: 2970.8632\n"
          ]
        }
      ]
    },
    {
      "cell_type": "markdown",
      "source": [
        "Q33. Train a Random Forest Classifier and analyze misclassified samples."
      ],
      "metadata": {
        "id": "Le-walmvol03"
      }
    },
    {
      "cell_type": "code",
      "source": [
        "from sklearn.ensemble import RandomForestClassifier\n",
        "from sklearn.datasets import load_iris\n",
        "from sklearn.model_selection import train_test_split\n",
        "from sklearn.metrics import accuracy_score\n",
        "\n",
        "X, y = load_iris(return_X_y=True)\n",
        "X_train, X_test, y_train, y_test = train_test_split(X, y, test_size=0.2, random_state=42)\n",
        "\n",
        "model = RandomForestClassifier(random_state=42)\n",
        "model.fit(X_train, y_train)\n",
        "y_pred = model.predict(X_test)\n",
        "\n",
        "misclassified = X_test[y_pred != y_test]\n",
        "print(\"Misclassified samples:\")\n",
        "print(misclassified)\n"
      ],
      "metadata": {
        "colab": {
          "base_uri": "https://localhost:8080/"
        },
        "id": "QYgcs18Ooog2",
        "outputId": "ee8ea7bf-84a0-4743-8eb9-936289f4c542"
      },
      "execution_count": null,
      "outputs": [
        {
          "output_type": "stream",
          "name": "stdout",
          "text": [
            "Misclassified samples:\n",
            "[]\n"
          ]
        }
      ]
    },
    {
      "cell_type": "markdown",
      "source": [
        "Q34. Train a Bagging Classifier and compare its performance with a single Decision Tree Classifier.\n"
      ],
      "metadata": {
        "id": "45-QTmhcortI"
      }
    },
    {
      "cell_type": "code",
      "source": [
        "from sklearn.ensemble import BaggingClassifier\n",
        "from sklearn.tree import DecisionTreeClassifier\n",
        "from sklearn.datasets import load_iris\n",
        "from sklearn.model_selection import train_test_split\n",
        "from sklearn.metrics import accuracy_score\n",
        "\n",
        "X, y = load_iris(return_X_y=True)\n",
        "X_train, X_test, y_train, y_test = train_test_split(X, y, test_size=0.2, random_state=42)\n",
        "\n",
        "# Decision Tree\n",
        "dt = DecisionTreeClassifier()\n",
        "dt.fit(X_train, y_train)\n",
        "dt_acc = accuracy_score(y_test, dt.predict(X_test))\n",
        "\n",
        "# Bagging\n",
        "bag = BaggingClassifier(estimator=DecisionTreeClassifier(), n_estimators=10, random_state=42)\n",
        "bag.fit(X_train, y_train)\n",
        "bag_acc = accuracy_score(y_test, bag.predict(X_test))\n",
        "\n",
        "print(\"Decision Tree Accuracy:\", dt_acc)\n",
        "print(\"Bagging Accuracy:\", bag_acc)\n"
      ],
      "metadata": {
        "colab": {
          "base_uri": "https://localhost:8080/"
        },
        "id": "19KyDX0LotT3",
        "outputId": "6bd8c864-27cc-427b-e648-c3f128d228c4"
      },
      "execution_count": null,
      "outputs": [
        {
          "output_type": "stream",
          "name": "stdout",
          "text": [
            "Decision Tree Accuracy: 1.0\n",
            "Bagging Accuracy: 1.0\n"
          ]
        }
      ]
    },
    {
      "cell_type": "markdown",
      "source": [
        "Q35. Train a Random Forest Classifier and visualize the confusion matrix."
      ],
      "metadata": {
        "id": "ChAzgE_eou72"
      }
    },
    {
      "cell_type": "code",
      "source": [
        "from sklearn.ensemble import RandomForestClassifier\n",
        "from sklearn.datasets import load_iris\n",
        "from sklearn.model_selection import train_test_split\n",
        "from sklearn.metrics import confusion_matrix, ConfusionMatrixDisplay\n",
        "import matplotlib.pyplot as plt\n",
        "\n",
        "X, y = load_iris(return_X_y=True)\n",
        "X_train, X_test, y_train, y_test = train_test_split(X, y, test_size=0.2, random_state=42)\n",
        "\n",
        "model = RandomForestClassifier(random_state=42)\n",
        "model.fit(X_train, y_train)\n",
        "y_pred = model.predict(X_test)\n",
        "\n",
        "cm = confusion_matrix(y_test, y_pred)\n",
        "disp = ConfusionMatrixDisplay(confusion_matrix=cm)\n",
        "disp.plot()\n",
        "plt.show()\n"
      ],
      "metadata": {
        "colab": {
          "base_uri": "https://localhost:8080/",
          "height": 449
        },
        "id": "XzoFSWDXoxK_",
        "outputId": "ebb833ba-92ff-4400-dc39-766da4f639b8"
      },
      "execution_count": null,
      "outputs": [
        {
          "output_type": "display_data",
          "data": {
            "text/plain": [
              "<Figure size 640x480 with 2 Axes>"
            ],
            "image/png": "[encoded data removed]"
          },
          "metadata": {}
        }
      ]
    },
    {
      "cell_type": "markdown",
      "source": [
        "Q36. Use cross-validation to evaluate a Random Forest Classifier."
      ],
      "metadata": {
        "id": "DfuhbAR-o0Bv"
      }
    },
    {
      "cell_type": "code",
      "source": [
        "from sklearn.ensemble import RandomForestClassifier\n",
        "from sklearn.datasets import load_iris\n",
        "from sklearn.model_selection import cross_val_score\n",
        "\n",
        "X, y = load_iris(return_X_y=True)\n",
        "\n",
        "model = RandomForestClassifier(random_state=42)\n",
        "scores = cross_val_score(model, X, y, cv=5)\n",
        "\n",
        "print(\"Cross-validation scores:\", scores)\n",
        "print(\"Average accuracy:\", scores.mean())\n"
      ],
      "metadata": {
        "colab": {
          "base_uri": "https://localhost:8080/"
        },
        "id": "uG86gom5o31g",
        "outputId": "7621c763-e003-4377-a9d9-4eb84e339e63"
      },
      "execution_count": null,
      "outputs": [
        {
          "output_type": "stream",
          "name": "stdout",
          "text": [
            "Cross-validation scores: [0.96666667 0.96666667 0.93333333 0.96666667 1.        ]\n",
            "Average accuracy: 0.9666666666666668\n"
          ]
        }
      ]
    },
    {
      "cell_type": "markdown",
      "source": [
        "Q37. Train a Bagging Classifier using KNN as the base estimator and print accuracy."
      ],
      "metadata": {
        "id": "KLK7nFRTo5kv"
      }
    },
    {
      "cell_type": "code",
      "source": [
        "from sklearn.ensemble import BaggingClassifier\n",
        "from sklearn.neighbors import KNeighborsClassifier\n",
        "from sklearn.datasets import load_iris\n",
        "from sklearn.model_selection import train_test_split\n",
        "from sklearn.metrics import accuracy_score\n",
        "\n",
        "X, y = load_iris(return_X_y=True)\n",
        "X_train, X_test, y_train, y_test = train_test_split(X, y, test_size=0.2, random_state=42)\n",
        "\n",
        "model = BaggingClassifier(estimator=KNeighborsClassifier(), n_estimators=10, random_state=42)\n",
        "model.fit(X_train, y_train)\n",
        "y_pred = model.predict(X_test)\n",
        "\n",
        "print(\"Accuracy:\", accuracy_score(y_test, y_pred))\n"
      ],
      "metadata": {
        "colab": {
          "base_uri": "https://localhost:8080/"
        },
        "id": "7cRDsKedo7mh",
        "outputId": "9403cd36-b678-4c6e-cddc-2bfc96d4c8ec"
      },
      "execution_count": null,
      "outputs": [
        {
          "output_type": "stream",
          "name": "stdout",
          "text": [
            "Accuracy: 1.0\n"
          ]
        }
      ]
    },
    {
      "cell_type": "markdown",
      "source": [
        "Q38. Train a Random Forest Classifier with class weights and evaluate performance."
      ],
      "metadata": {
        "id": "UUNXYfRfo9K_"
      }
    },
    {
      "cell_type": "code",
      "source": [
        "from sklearn.ensemble import RandomForestClassifier\n",
        "from sklearn.datasets import load_breast_cancer\n",
        "from sklearn.model_selection import train_test_split\n",
        "from sklearn.metrics import classification_report\n",
        "\n",
        "X, y = load_breast_cancer(return_X_y=True)\n",
        "X_train, X_test, y_train, y_test = train_test_split(X, y, test_size=0.2, random_state=42)\n",
        "\n",
        "model = RandomForestClassifier(class_weight='balanced', random_state=42)\n",
        "model.fit(X_train, y_train)\n",
        "y_pred = model.predict(X_test)\n",
        "\n",
        "print(classification_report(y_test, y_pred))\n"
      ],
      "metadata": {
        "colab": {
          "base_uri": "https://localhost:8080/"
        },
        "id": "LLEMJGFPo_ie",
        "outputId": "e2b0f325-c0d7-43e5-b0b3-0f71604b5ee1"
      },
      "execution_count": null,
      "outputs": [
        {
          "output_type": "stream",
          "name": "stdout",
          "text": [
            "              precision    recall  f1-score   support\n",
            "\n",
            "           0       0.98      0.95      0.96        43\n",
            "           1       0.97      0.99      0.98        71\n",
            "\n",
            "    accuracy                           0.97       114\n",
            "   macro avg       0.97      0.97      0.97       114\n",
            "weighted avg       0.97      0.97      0.97       114\n",
            "\n"
          ]
        }
      ]
    },
    {
      "cell_type": "markdown",
      "source": [
        "Q39. Train a Bagging Classifier with max_samples and max_features parameters and evaluate."
      ],
      "metadata": {
        "id": "7c4SlvavpBQu"
      }
    },
    {
      "cell_type": "code",
      "source": [
        "from sklearn.ensemble import BaggingClassifier\n",
        "from sklearn.tree import DecisionTreeClassifier\n",
        "from sklearn.datasets import load_iris\n",
        "from sklearn.model_selection import train_test_split\n",
        "from sklearn.metrics import accuracy_score\n",
        "\n",
        "X, y = load_iris(return_X_y=True)\n",
        "X_train, X_test, y_train, y_test = train_test_split(X, y, test_size=0.2, random_state=42)\n",
        "\n",
        "model = BaggingClassifier(estimator=DecisionTreeClassifier(), n_estimators=10,\n",
        "                          max_samples=0.8, max_features=0.8, random_state=42)\n",
        "model.fit(X_train, y_train)\n",
        "y_pred = model.predict(X_test)\n",
        "\n",
        "print(\"Accuracy:\", accuracy_score(y_test, y_pred))\n"
      ],
      "metadata": {
        "colab": {
          "base_uri": "https://localhost:8080/"
        },
        "id": "udblxTlopD0-",
        "outputId": "c433f6d1-dde8-412d-fd6b-e6042b2d11d1"
      },
      "execution_count": null,
      "outputs": [
        {
          "output_type": "stream",
          "name": "stdout",
          "text": [
            "Accuracy: 1.0\n"
          ]
        }
      ]
    },
    {
      "cell_type": "markdown",
      "source": [
        "Q40. Visualize feature importance of a Random Forest model using bar plot."
      ],
      "metadata": {
        "id": "utPXVAOXpH5Y"
      }
    },
    {
      "cell_type": "code",
      "source": [
        "from sklearn.ensemble import RandomForestClassifier\n",
        "from sklearn.datasets import load_iris\n",
        "import matplotlib.pyplot as plt\n",
        "import pandas as pd\n",
        "\n",
        "data = load_iris()\n",
        "X, y = data.data, data.target\n",
        "\n",
        "model = RandomForestClassifier(n_estimators=100, random_state=42)\n",
        "model.fit(X, y)\n",
        "\n",
        "importances = model.feature_importances_\n",
        "features = pd.Series(importances, index=data.feature_names)\n",
        "\n",
        "# Plot\n",
        "features.sort_values().plot(kind='barh')\n",
        "plt.xlabel(\"Feature Importance\")\n",
        "plt.title(\"Random Forest Feature Importances\")\n",
        "plt.tight_layout()\n",
        "plt.show()\n"
      ],
      "metadata": {
        "colab": {
          "base_uri": "https://localhost:8080/",
          "height": 487
        },
        "id": "TFlHVt-8pKqQ",
        "outputId": "c76d195e-ce63-4e3c-8055-2ec522cfe641"
      },
      "execution_count": null,
      "outputs": [
        {
          "output_type": "display_data",
          "data": {
            "text/plain": [
              "<Figure size 640x480 with 1 Axes>"
            ],
            "image/png": "[encoded data removed]"
          },
          "metadata": {}
        }
      ]
    },
    {
      "cell_type": "markdown",
      "source": [
        "Q41. Train a Bagging Regressor using Linear Regression as a base estimator and evaluate performance."
      ],
      "metadata": {
        "id": "BhObAC-JpcPI"
      }
    },
    {
      "cell_type": "code",
      "source": [
        "from sklearn.ensemble import BaggingRegressor\n",
        "from sklearn.linear_model import LinearRegression\n",
        "from sklearn.datasets import load_diabetes\n",
        "from sklearn.model_selection import train_test_split\n",
        "from sklearn.metrics import mean_squared_error\n",
        "\n",
        "X, y = load_diabetes(return_X_y=True)\n",
        "X_train, X_test, y_train, y_test = train_test_split(X, y, test_size=0.2, random_state=42)\n",
        "\n",
        "model = BaggingRegressor(estimator=LinearRegression(), n_estimators=10, random_state=42)\n",
        "model.fit(X_train, y_train)\n",
        "y_pred = model.predict(X_test)\n",
        "\n",
        "print(\"Mean Squared Error:\", mean_squared_error(y_test, y_pred))\n"
      ],
      "metadata": {
        "colab": {
          "base_uri": "https://localhost:8080/"
        },
        "id": "Yllv5DkMpim_",
        "outputId": "38cae952-e313-4ae6-d190-087e63506808"
      },
      "execution_count": null,
      "outputs": [
        {
          "output_type": "stream",
          "name": "stdout",
          "text": [
            "Mean Squared Error: 2919.8853159672003\n"
          ]
        }
      ]
    },
    {
      "cell_type": "markdown",
      "source": [
        "Q42. Compare accuracy of a single KNN and Bagging with KNN on the Iris dataset."
      ],
      "metadata": {
        "id": "gfIpMnNppkjA"
      }
    },
    {
      "cell_type": "code",
      "source": [
        "from sklearn.ensemble import BaggingClassifier\n",
        "from sklearn.neighbors import KNeighborsClassifier\n",
        "from sklearn.datasets import load_iris\n",
        "from sklearn.model_selection import train_test_split\n",
        "from sklearn.metrics import accuracy_score\n",
        "\n",
        "X, y = load_iris(return_X_y=True)\n",
        "X_train, X_test, y_train, y_test = train_test_split(X, y, test_size=0.2, random_state=42)\n",
        "\n",
        "# Single KNN\n",
        "knn = KNeighborsClassifier()\n",
        "knn.fit(X_train, y_train)\n",
        "acc_knn = accuracy_score(y_test, knn.predict(X_test))\n",
        "\n",
        "# Bagging KNN\n",
        "bag_knn = BaggingClassifier(estimator=KNeighborsClassifier(), n_estimators=10, random_state=42)\n",
        "bag_knn.fit(X_train, y_train)\n",
        "acc_bag_knn = accuracy_score(y_test, bag_knn.predict(X_test))\n",
        "\n",
        "print(\"Single KNN Accuracy:\", acc_knn)\n",
        "print(\"Bagging KNN Accuracy:\", acc_bag_knn)\n"
      ],
      "metadata": {
        "colab": {
          "base_uri": "https://localhost:8080/"
        },
        "id": "N72ZfpmspnDn",
        "outputId": "f75ea403-c3f7-4ffb-a011-5178a1e964d7"
      },
      "execution_count": null,
      "outputs": [
        {
          "output_type": "stream",
          "name": "stdout",
          "text": [
            "Single KNN Accuracy: 1.0\n",
            "Bagging KNN Accuracy: 1.0\n"
          ]
        }
      ]
    },
    {
      "cell_type": "markdown",
      "source": [
        "Q43. Implement Stacking Classifier using Logistic Regression, SVM and Decision Tree."
      ],
      "metadata": {
        "id": "mD8xXDSgppa_"
      }
    },
    {
      "cell_type": "code",
      "source": [
        "from sklearn.ensemble import StackingClassifier\n",
        "from sklearn.linear_model import LogisticRegression\n",
        "from sklearn.svm import SVC\n",
        "from sklearn.tree import DecisionTreeClassifier\n",
        "from sklearn.datasets import load_iris\n",
        "from sklearn.model_selection import train_test_split\n",
        "from sklearn.metrics import accuracy_score\n",
        "\n",
        "X, y = load_iris(return_X_y=True)\n",
        "X_train, X_test, y_train, y_test = train_test_split(X, y, test_size=0.2, random_state=42)\n",
        "\n",
        "estimators = [\n",
        "    ('svm', SVC(probability=True)),\n",
        "    ('dt', DecisionTreeClassifier())\n",
        "]\n",
        "\n",
        "stack_model = StackingClassifier(estimators=estimators, final_estimator=LogisticRegression())\n",
        "stack_model.fit(X_train, y_train)\n",
        "y_pred = stack_model.predict(X_test)\n",
        "\n",
        "print(\"Stacking Accuracy:\", accuracy_score(y_test, y_pred))\n"
      ],
      "metadata": {
        "colab": {
          "base_uri": "https://localhost:8080/"
        },
        "id": "vSnfWnNhpsFn",
        "outputId": "a6acac51-1ad5-4f19-dc7e-8ce587866921"
      },
      "execution_count": null,
      "outputs": [
        {
          "output_type": "stream",
          "name": "stdout",
          "text": [
            "Stacking Accuracy: 1.0\n"
          ]
        }
      ]
    },
    {
      "cell_type": "markdown",
      "source": [
        "Q44. Implement Voting Classifier with Logistic Regression, SVM and Random Forest."
      ],
      "metadata": {
        "id": "sTdk28HqptzH"
      }
    },
    {
      "cell_type": "code",
      "source": [
        "from sklearn.ensemble import VotingClassifier\n",
        "from sklearn.linear_model import LogisticRegression\n",
        "from sklearn.svm import SVC\n",
        "from sklearn.ensemble import RandomForestClassifier\n",
        "from sklearn.datasets import load_iris\n",
        "from sklearn.model_selection import train_test_split\n",
        "from sklearn.metrics import accuracy_score\n",
        "\n",
        "X, y = load_iris(return_X_y=True)\n",
        "X_train, X_test, y_train, y_test = train_test_split(X, y, test_size=0.2, random_state=42)\n",
        "\n",
        "model = VotingClassifier(estimators=[\n",
        "    ('lr', LogisticRegression(max_iter=1000)),\n",
        "    ('svm', SVC(probability=True)),\n",
        "    ('rf', RandomForestClassifier())\n",
        "], voting='soft')\n",
        "\n",
        "model.fit(X_train, y_train)\n",
        "y_pred = model.predict(X_test)\n",
        "\n",
        "print(\"Voting Classifier Accuracy:\", accuracy_score(y_test, y_pred))\n"
      ],
      "metadata": {
        "colab": {
          "base_uri": "https://localhost:8080/"
        },
        "id": "f2Z17d43px9B",
        "outputId": "0306a6f4-12de-4943-b15a-b4c9ee20a08c"
      },
      "execution_count": null,
      "outputs": [
        {
          "output_type": "stream",
          "name": "stdout",
          "text": [
            "Voting Classifier Accuracy: 1.0\n"
          ]
        }
      ]
    },
    {
      "cell_type": "markdown",
      "source": [
        "Q45. Compare performance of Bagging, Random Forest, and Stacking on the same dataset."
      ],
      "metadata": {
        "id": "pIEXtdZAp2qX"
      }
    },
    {
      "cell_type": "code",
      "source": [
        "from sklearn.ensemble import BaggingClassifier, RandomForestClassifier, StackingClassifier\n",
        "from sklearn.linear_model import LogisticRegression\n",
        "from sklearn.tree import DecisionTreeClassifier\n",
        "from sklearn.datasets import load_iris\n",
        "from sklearn.model_selection import train_test_split\n",
        "from sklearn.metrics import accuracy_score\n",
        "\n",
        "X, y = load_iris(return_X_y=True)\n",
        "X_train, X_test, y_train, y_test = train_test_split(X, y, test_size=0.2, random_state=42)\n",
        "\n",
        "# Bagging\n",
        "bag = BaggingClassifier(estimator=DecisionTreeClassifier(), n_estimators=10, random_state=42)\n",
        "bag.fit(X_train, y_train)\n",
        "acc_bag = accuracy_score(y_test, bag.predict(X_test))\n",
        "\n",
        "# Random Forest\n",
        "rf = RandomForestClassifier(n_estimators=100, random_state=42)\n",
        "rf.fit(X_train, y_train)\n",
        "acc_rf = accuracy_score(y_test, rf.predict(X_test))\n",
        "\n",
        "# Stacking\n",
        "stack = StackingClassifier(\n",
        "    estimators=[\n",
        "        ('dt', DecisionTreeClassifier()),\n",
        "        ('lr', LogisticRegression(max_iter=1000))\n",
        "    ],\n",
        "    final_estimator=LogisticRegression()\n",
        ")\n",
        "stack.fit(X_train, y_train)\n",
        "acc_stack = accuracy_score(y_test, stack.predict(X_test))\n",
        "\n",
        "print(f\"Bagging Accuracy: {acc_bag}\")\n",
        "print(f\"Random Forest Accuracy: {acc_rf}\")\n",
        "print(f\"Stacking Accuracy: {acc_stack}\")\n"
      ],
      "metadata": {
        "colab": {
          "base_uri": "https://localhost:8080/"
        },
        "id": "lXjXodjsp6kZ",
        "outputId": "0a51d88e-0f8b-460d-d45f-4641e8b7e41c"
      },
      "execution_count": null,
      "outputs": [
        {
          "output_type": "stream",
          "name": "stdout",
          "text": [
            "Bagging Accuracy: 1.0\n",
            "Random Forest Accuracy: 1.0\n",
            "Stacking Accuracy: 1.0\n"
          ]
        }
      ]
    }
  ]
}